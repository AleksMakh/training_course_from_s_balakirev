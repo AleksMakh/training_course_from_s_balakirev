{
 "cells": [
  {
   "cell_type": "markdown",
   "metadata": {},
   "source": [
    "# Методы списков\n",
    "`msg.pop()` - Удаляет последний элемент, либо элемент с указанным индексом. При этом позволяет запомнить этот элемент.  \n",
    "`msg.append()` - Добавляет элемент в конец списка, меняя сам список.\n",
    "`msg.pop(3)` - Удаляет элемент c индексом \"3\"  \n",
    "`msg.remove(ё)` - Удаляет элемент по значению(ищет в списке ё и удаляет его)  \n",
    "`msg.insert(ю, й)` - Вставляет элемент в указанное место списка(ю-индекс, куда вставляем; й - то, что вставляем)  \n",
    "`clear` - Очищает список (удаляет все элементы)  \n",
    "`msg.copy() == msg[:] == list(msg)`- копирует список  \n",
    "`msg.count('gfbvxfb')` - сколько раз 'gfbvxfb' входит в список  \n",
    "`msg.index(-54,2)` - возвращает индекс '-54' после 2 элемента    "
   ]
  },
  {
   "cell_type": "code",
   "execution_count": 5,
   "metadata": {},
   "outputs": [
    {
     "name": "stdout",
     "output_type": "stream",
     "text": [
      "8(912)1234567\n"
     ]
    }
   ],
   "source": [
    "\"\"\"\n",
    "Sample Input:\n",
    "+7(912)123-45-67\n",
    "Sample Output:\n",
    "8(912)1234567\n",
    "\"\"\"\n",
    "\n",
    "lst = list(\"+7(912)123-45-67\")\n",
    "lst.remove('7')\n",
    "lst.insert(1, '8')\n",
    "lst.remove('-')\n",
    "lst.remove('-')\n",
    "lst.remove('+')\n",
    "print(\"\".join(lst))"
   ]
  },
  {
   "cell_type": "markdown",
   "metadata": {},
   "source": []
  }
 ],
 "metadata": {
  "interpreter": {
   "hash": "2be5faf79681da6f2a61fdfdd5405d65d042280f7fba6178067603e3a2925119"
  },
  "kernelspec": {
   "display_name": "Python 3.10.6 64-bit",
   "language": "python",
   "name": "python3"
  },
  "language_info": {
   "codemirror_mode": {
    "name": "ipython",
    "version": 3
   },
   "file_extension": ".py",
   "mimetype": "text/x-python",
   "name": "python",
   "nbconvert_exporter": "python",
   "pygments_lexer": "ipython3",
   "version": "3.10.6"
  },
  "orig_nbformat": 4
 },
 "nbformat": 4,
 "nbformat_minor": 2
}
